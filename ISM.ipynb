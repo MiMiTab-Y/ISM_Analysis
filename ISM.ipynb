{
 "cells": [
  {
   "cell_type": "code",
   "execution_count": null,
   "metadata": {},
   "outputs": [],
   "source": [
    "def plot_it(Driving_power, Dependence_power):\n",
    "    plt.scatter(Dependence_power, Driving_power)\n",
    "    pts = dict() #pts is dictionary mapping from tuple of points to list of index corresponding to that\n",
    "    for i, txt in enumerate(range(n)):\n",
    "    \tt = (Dependence_power[i], Driving_power[i]) #t is placeholder variable for coordinate\n",
    "    \tif t in pts:\n",
    "    \t\tpts[t].append(txt+1)\n",
    "    \telse:\n",
    "    \t\tpts[t]=[txt+1]\n",
    "\n",
    "    for i, txt in enumerate(range(n)):\n",
    "       \tt = (Dependence_power[i], Driving_power[i])\n",
    "        plt.annotate(pts[t],t)\n",
    "\n",
    "\n",
    "    x1, y1 = [-1, n+1], [n/2, n/2]\n",
    "    x2, y2 = [n/2, n/2], [-1, n+1]\n",
    "    plt.plot(x1, y1, x2, y2)"
   ]
  },
  {
   "cell_type": "code",
   "execution_count": null,
   "metadata": {},
   "outputs": [],
   "source": [
    "import matplotlib as plt"
   ]
  },
  {
   "cell_type": "code",
   "execution_count": null,
   "metadata": {},
   "outputs": [],
   "source": [
    "def plot_it(Driving_power, Dependence_power):\n",
    "    plt.scatter(Dependence_power, Driving_power)\n",
    "    pts = dict()\n",
    "    for i, txt in enumerate(range(n)):\n",
    "        t = (Dependence_power[i], Driving_power[i])\n",
    "        if t in pts:\n",
    "            pts[t].append(txt+1)\n",
    "        else:\n",
    "            pts[t]=[txt+1]\n",
    "            \n",
    "    for i, txt in enumerate(range(n)):\n",
    "        t = (Dependence_power[i], Driving_power[i])\n",
    "        plt.annotate(pts[t],t)\n",
    "        \n",
    "    x1, y1 = [-1, n+1], [n/2, n/2]\n",
    "    x2, y2 = [n/2, n/2], [-1, n+1]\n",
    "    plt.plot(x1, y1, x2, y2)"
   ]
  }
 ],
 "metadata": {
  "language_info": {
   "name": "python"
  }
 },
 "nbformat": 4,
 "nbformat_minor": 2
}
