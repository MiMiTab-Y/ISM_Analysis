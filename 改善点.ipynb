{
 "cells": [
  {
   "cell_type": "markdown",
   "metadata": {},
   "source": [
    "- trueが１つにならない場合に対応していない（双方向に矢印が向くとき）\n",
    "- 必ずしも２×２の行列になるとは限らないのでwhile len(final_list) > 2:の終了条件を変える必要あり\n",
    "- エッジ作成順序にてどこにも矢印が向かないものがある場合に対応していない\n",
    "\n",
    "    ```python:title\n",
    "    # 残った配列aから，Trueが多い方の行の階層を上にする\n",
    "    true_counts = np.sum(final_list, axis=1)    # 行ごとにTrueの数を数える\n",
    "    max_row_index = np.argmax(true_counts)      # 最大値を持つ行番号を取得\n",
    "    min_row_index = np.argmin(true_counts)      # 最小値を持つ行番号を取得\n",
    "    ```\n",
    "\n",
    "- 最大最小関係がないパターンに対応してない"
   ]
  },
  {
   "cell_type": "markdown",
   "metadata": {},
   "source": []
  }
 ],
 "metadata": {
  "language_info": {
   "name": "python"
  }
 },
 "nbformat": 4,
 "nbformat_minor": 2
}
