{
 "cells": [
  {
   "cell_type": "code",
   "execution_count": 9,
   "metadata": {},
   "outputs": [],
   "source": [
    "import ISM_paper_logic_code as ism\n",
    "import numpy as np"
   ]
  },
  {
   "cell_type": "code",
   "execution_count": 12,
   "metadata": {},
   "outputs": [
    {
     "ename": "NameError",
     "evalue": "name 'n' is not defined",
     "output_type": "error",
     "traceback": [
      "\u001b[1;31m---------------------------------------------------------------------------\u001b[0m",
      "\u001b[1;31mNameError\u001b[0m                                 Traceback (most recent call last)",
      "Cell \u001b[1;32mIn[12], line 8\u001b[0m\n\u001b[0;32m      6\u001b[0m final \u001b[38;5;241m=\u001b[39m g\u001b[38;5;241m.\u001b[39mtransitiveClosure(graph)\n\u001b[0;32m      7\u001b[0m temp \u001b[38;5;241m=\u001b[39m np\u001b[38;5;241m.\u001b[39mloadtxt(area, usecols\u001b[38;5;241m=\u001b[39m\u001b[38;5;28mrange\u001b[39m(n))\n\u001b[1;32m----> 8\u001b[0m \u001b[43mism\u001b[49m\u001b[38;5;241;43m.\u001b[39;49m\u001b[43mprint_final_reachability\u001b[49m\u001b[43m(\u001b[49m\u001b[43mtemp\u001b[49m\u001b[43m,\u001b[49m\u001b[43m \u001b[49m\u001b[43mfinal\u001b[49m\u001b[43m)\u001b[49m\n",
      "File \u001b[1;32mc:\\WorkSpace\\ISM_Analysis\\ISM_Analysis\\ISM_paper_logic_code.py:34\u001b[0m, in \u001b[0;36mprint_final_reachability\u001b[1;34m(initial, final)\u001b[0m\n\u001b[0;32m     31\u001b[0m \t\t\u001b[38;5;28;01mfor\u001b[39;00m line \u001b[38;5;129;01min\u001b[39;00m mat:\n\u001b[0;32m     32\u001b[0m \t\t\tnp\u001b[38;5;241m.\u001b[39msavetxt(f, line, fmt\u001b[38;5;241m=\u001b[39m\u001b[38;5;124m'\u001b[39m\u001b[38;5;124m%\u001b[39m\u001b[38;5;124m.f\u001b[39m\u001b[38;5;124m'\u001b[39m)\n\u001b[1;32m---> 34\u001b[0m \t\u001b[38;5;28;01mfor\u001b[39;00m i \u001b[38;5;129;01min\u001b[39;00m \u001b[38;5;28mrange\u001b[39m(\u001b[43mn\u001b[49m):\n\u001b[0;32m     35\u001b[0m             \u001b[38;5;28;01mfor\u001b[39;00m j \u001b[38;5;129;01min\u001b[39;00m \u001b[38;5;28mrange\u001b[39m(n):\n\u001b[0;32m     36\u001b[0m                 \u001b[38;5;28;01mif\u001b[39;00m(final[i][j]\u001b[38;5;241m==\u001b[39m\u001b[38;5;241m1\u001b[39m \u001b[38;5;129;01mand\u001b[39;00m initial[i][j]\u001b[38;5;241m==\u001b[39m\u001b[38;5;241m0\u001b[39m):\n",
      "\u001b[1;31mNameError\u001b[0m: name 'n' is not defined"
     ]
    }
   ],
   "source": [
    "n = int(input('Dimension of your Initial Reachability matrix : '))\n",
    "area = input('name of input file : ')\n",
    "\n",
    "graph = np.loadtxt(area, usecols=range(n))\n",
    "g= ism.Graph(n) \n",
    "final = g.transitiveClosure(graph)\n",
    "temp = np.loadtxt(area, usecols=range(n))\n",
    "ism.print_final_reachability(temp, final)"
   ]
  },
  {
   "cell_type": "code",
   "execution_count": 11,
   "metadata": {},
   "outputs": [
    {
     "ename": "NameError",
     "evalue": "name 'n' is not defined",
     "output_type": "error",
     "traceback": [
      "\u001b[1;31m---------------------------------------------------------------------------\u001b[0m",
      "\u001b[1;31mNameError\u001b[0m                                 Traceback (most recent call last)",
      "Cell \u001b[1;32mIn[11], line 4\u001b[0m\n\u001b[0;32m      2\u001b[0m final \u001b[38;5;241m=\u001b[39m g\u001b[38;5;241m.\u001b[39mtransitiveClosure(graph)\n\u001b[0;32m      3\u001b[0m temp \u001b[38;5;241m=\u001b[39m np\u001b[38;5;241m.\u001b[39mloadtxt(area, usecols\u001b[38;5;241m=\u001b[39m\u001b[38;5;28mrange\u001b[39m(n))\n\u001b[1;32m----> 4\u001b[0m \u001b[43mism\u001b[49m\u001b[38;5;241;43m.\u001b[39;49m\u001b[43mprint_final_reachability\u001b[49m\u001b[43m(\u001b[49m\u001b[43mtemp\u001b[49m\u001b[43m,\u001b[49m\u001b[43m \u001b[49m\u001b[43mfinal\u001b[49m\u001b[43m)\u001b[49m\n",
      "File \u001b[1;32mc:\\WorkSpace\\ISM_Analysis\\ISM_Analysis\\ISM_paper_logic_code.py:34\u001b[0m, in \u001b[0;36mprint_final_reachability\u001b[1;34m(initial, final)\u001b[0m\n\u001b[0;32m     31\u001b[0m \t\t\u001b[38;5;28;01mfor\u001b[39;00m line \u001b[38;5;129;01min\u001b[39;00m mat:\n\u001b[0;32m     32\u001b[0m \t\t\tnp\u001b[38;5;241m.\u001b[39msavetxt(f, line, fmt\u001b[38;5;241m=\u001b[39m\u001b[38;5;124m'\u001b[39m\u001b[38;5;124m%\u001b[39m\u001b[38;5;124m.f\u001b[39m\u001b[38;5;124m'\u001b[39m)\n\u001b[1;32m---> 34\u001b[0m \t\u001b[38;5;28;01mfor\u001b[39;00m i \u001b[38;5;129;01min\u001b[39;00m \u001b[38;5;28mrange\u001b[39m(\u001b[43mn\u001b[49m):\n\u001b[0;32m     35\u001b[0m             \u001b[38;5;28;01mfor\u001b[39;00m j \u001b[38;5;129;01min\u001b[39;00m \u001b[38;5;28mrange\u001b[39m(n):\n\u001b[0;32m     36\u001b[0m                 \u001b[38;5;28;01mif\u001b[39;00m(final[i][j]\u001b[38;5;241m==\u001b[39m\u001b[38;5;241m1\u001b[39m \u001b[38;5;129;01mand\u001b[39;00m initial[i][j]\u001b[38;5;241m==\u001b[39m\u001b[38;5;241m0\u001b[39m):\n",
      "\u001b[1;31mNameError\u001b[0m: name 'n' is not defined"
     ]
    }
   ],
   "source": []
  },
  {
   "cell_type": "code",
   "execution_count": null,
   "metadata": {},
   "outputs": [],
   "source": [
    "\n",
    "\n",
    "\n",
    "\n",
    "Driving_power, Dependence_power = xandy(final)\n",
    "\n",
    "common_mat = Level_Partioning(final)\n",
    "\n",
    "intersection_set = []\n",
    "for i in range(n):\n",
    "    intersection_set.append(list(set(common_mat[2*i]) & set(common_mat[2*i + 1])))\n",
    "\n",
    "levels = find_level(intersection_set, common_mat)\n",
    "\n",
    "f = open(\"outfile.txt\",\"a\")\n",
    "f.write('\\n')\n",
    "for i in range(n):\n",
    "    f.write('Level in TISM for E%d is %d\\n'%(i+1,levels[i]))\n",
    "f.close()\n",
    "\n",
    "for i in range(n):\n",
    "    print('Level in TISM for E%d is %d'%(i+1,levels[i]))\n",
    "\n",
    "plot_it(Driving_power, Dependence_power)\n"
   ]
  }
 ],
 "metadata": {
  "kernelspec": {
   "display_name": "env",
   "language": "python",
   "name": "python3"
  },
  "language_info": {
   "codemirror_mode": {
    "name": "ipython",
    "version": 3
   },
   "file_extension": ".py",
   "mimetype": "text/x-python",
   "name": "python",
   "nbconvert_exporter": "python",
   "pygments_lexer": "ipython3",
   "version": "3.9.13"
  }
 },
 "nbformat": 4,
 "nbformat_minor": 2
}
